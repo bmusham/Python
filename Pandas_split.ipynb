{
 "cells": [
  {
   "cell_type": "code",
   "execution_count": 58,
   "id": "0e473fff",
   "metadata": {},
   "outputs": [],
   "source": [
    "import pandas as pd"
   ]
  },
  {
   "cell_type": "code",
   "execution_count": 67,
   "id": "1d15a033",
   "metadata": {},
   "outputs": [],
   "source": [
    "state_df=pd.read_csv('/Users/bmusham/Documents/CIS Technologies/usa_zipcode_of_ny-1551j.csv')"
   ]
  },
  {
   "cell_type": "code",
   "execution_count": 68,
   "id": "c6cb77e4",
   "metadata": {
    "scrolled": true
   },
   "outputs": [
    {
     "data": {
      "text/html": [
       "<div>\n",
       "<style scoped>\n",
       "    .dataframe tbody tr th:only-of-type {\n",
       "        vertical-align: middle;\n",
       "    }\n",
       "\n",
       "    .dataframe tbody tr th {\n",
       "        vertical-align: top;\n",
       "    }\n",
       "\n",
       "    .dataframe thead th {\n",
       "        text-align: right;\n",
       "    }\n",
       "</style>\n",
       "<table border=\"1\" class=\"dataframe\">\n",
       "  <thead>\n",
       "    <tr style=\"text-align: right;\">\n",
       "      <th></th>\n",
       "      <th>Unnamed: 5</th>\n",
       "      <th>Unnamed: 7</th>\n",
       "    </tr>\n",
       "  </thead>\n",
       "  <tbody>\n",
       "    <tr>\n",
       "      <th>count</th>\n",
       "      <td>0.0</td>\n",
       "      <td>0.0</td>\n",
       "    </tr>\n",
       "    <tr>\n",
       "      <th>mean</th>\n",
       "      <td>NaN</td>\n",
       "      <td>NaN</td>\n",
       "    </tr>\n",
       "    <tr>\n",
       "      <th>std</th>\n",
       "      <td>NaN</td>\n",
       "      <td>NaN</td>\n",
       "    </tr>\n",
       "    <tr>\n",
       "      <th>min</th>\n",
       "      <td>NaN</td>\n",
       "      <td>NaN</td>\n",
       "    </tr>\n",
       "    <tr>\n",
       "      <th>25%</th>\n",
       "      <td>NaN</td>\n",
       "      <td>NaN</td>\n",
       "    </tr>\n",
       "    <tr>\n",
       "      <th>50%</th>\n",
       "      <td>NaN</td>\n",
       "      <td>NaN</td>\n",
       "    </tr>\n",
       "    <tr>\n",
       "      <th>75%</th>\n",
       "      <td>NaN</td>\n",
       "      <td>NaN</td>\n",
       "    </tr>\n",
       "    <tr>\n",
       "      <th>max</th>\n",
       "      <td>NaN</td>\n",
       "      <td>NaN</td>\n",
       "    </tr>\n",
       "  </tbody>\n",
       "</table>\n",
       "</div>"
      ],
      "text/plain": [
       "       Unnamed: 5  Unnamed: 7\n",
       "count         0.0         0.0\n",
       "mean          NaN         NaN\n",
       "std           NaN         NaN\n",
       "min           NaN         NaN\n",
       "25%           NaN         NaN\n",
       "50%           NaN         NaN\n",
       "75%           NaN         NaN\n",
       "max           NaN         NaN"
      ]
     },
     "execution_count": 68,
     "metadata": {},
     "output_type": "execute_result"
    }
   ],
   "source": [
    "state_df.describe()"
   ]
  },
  {
   "cell_type": "code",
   "execution_count": 69,
   "id": "a5986702",
   "metadata": {},
   "outputs": [
    {
     "name": "stdout",
     "output_type": "stream",
     "text": [
      "Index(['zip', 'Zipcode name', 'City', 'State', 'County Name', 'Unnamed: 5',\n",
      "       'Unnamed: 6', 'Unnamed: 7'],\n",
      "      dtype='object')\n"
     ]
    }
   ],
   "source": [
    "print(state_df.columns)"
   ]
  },
  {
   "cell_type": "code",
   "execution_count": 70,
   "id": "268b1b24",
   "metadata": {},
   "outputs": [
    {
     "data": {
      "text/plain": [
       "['zip',\n",
       " 'Zipcode name',\n",
       " 'City',\n",
       " 'State',\n",
       " 'County Name',\n",
       " 'Unnamed: 5',\n",
       " 'Unnamed: 6',\n",
       " 'Unnamed: 7']"
      ]
     },
     "execution_count": 70,
     "metadata": {},
     "output_type": "execute_result"
    }
   ],
   "source": [
    "column_names=state_df.columns.values.tolist()\n",
    "column_names"
   ]
  },
  {
   "cell_type": "code",
   "execution_count": 71,
   "id": "73d43a90",
   "metadata": {},
   "outputs": [
    {
     "data": {
      "text/plain": [
       "0        NY\n",
       "1        NY\n",
       "2        NY\n",
       "3        NY\n",
       "4        NY\n",
       "       ... \n",
       "2070     NY\n",
       "2071     NY\n",
       "2072    NaN\n",
       "2073    NaN\n",
       "2074    NaN\n",
       "Name: Zipcode name, Length: 2075, dtype: object"
      ]
     },
     "execution_count": 71,
     "metadata": {},
     "output_type": "execute_result"
    }
   ],
   "source": [
    "state_df['Zipcode name'].str.split(\",\").str[1]"
   ]
  },
  {
   "cell_type": "code",
   "execution_count": 72,
   "id": "079275fc",
   "metadata": {},
   "outputs": [],
   "source": [
    "#state_df[['city_new','state_new']] = state_df['Zipcode name'].str.split(\",\",expand=True)"
   ]
  },
  {
   "cell_type": "code",
   "execution_count": 73,
   "id": "e33a0ebe",
   "metadata": {},
   "outputs": [],
   "source": [
    "state_df['state_new']=state_df['Zipcode name'].str.split(\",\").str[1]"
   ]
  },
  {
   "cell_type": "code",
   "execution_count": 74,
   "id": "85e397a1",
   "metadata": {},
   "outputs": [
    {
     "data": {
      "text/html": [
       "<div>\n",
       "<style scoped>\n",
       "    .dataframe tbody tr th:only-of-type {\n",
       "        vertical-align: middle;\n",
       "    }\n",
       "\n",
       "    .dataframe tbody tr th {\n",
       "        vertical-align: top;\n",
       "    }\n",
       "\n",
       "    .dataframe thead th {\n",
       "        text-align: right;\n",
       "    }\n",
       "</style>\n",
       "<table border=\"1\" class=\"dataframe\">\n",
       "  <thead>\n",
       "    <tr style=\"text-align: right;\">\n",
       "      <th></th>\n",
       "      <th>zip</th>\n",
       "      <th>Zipcode name</th>\n",
       "      <th>City</th>\n",
       "      <th>State</th>\n",
       "      <th>County Name</th>\n",
       "      <th>Unnamed: 5</th>\n",
       "      <th>Unnamed: 6</th>\n",
       "      <th>Unnamed: 7</th>\n",
       "      <th>state_new</th>\n",
       "    </tr>\n",
       "  </thead>\n",
       "  <tbody>\n",
       "    <tr>\n",
       "      <th>0</th>\n",
       "      <td>12404</td>\n",
       "      <td>ACCORD, NY</td>\n",
       "      <td>ACCORD</td>\n",
       "      <td>NY</td>\n",
       "      <td>ULSTER</td>\n",
       "      <td>NaN</td>\n",
       "      <td>NaN</td>\n",
       "      <td>NaN</td>\n",
       "      <td>NY</td>\n",
       "    </tr>\n",
       "    <tr>\n",
       "      <th>1</th>\n",
       "      <td>12405</td>\n",
       "      <td>ACRA, NY</td>\n",
       "      <td>ACRA</td>\n",
       "      <td>NY</td>\n",
       "      <td>GREENE</td>\n",
       "      <td>NaN</td>\n",
       "      <td>NaN</td>\n",
       "      <td>NaN</td>\n",
       "      <td>NY</td>\n",
       "    </tr>\n",
       "    <tr>\n",
       "      <th>2</th>\n",
       "      <td>13605</td>\n",
       "      <td>ADAMS, NY</td>\n",
       "      <td>ADAMS</td>\n",
       "      <td>NY</td>\n",
       "      <td>JEFFERSON</td>\n",
       "      <td>NaN</td>\n",
       "      <td>NaN</td>\n",
       "      <td>NaN</td>\n",
       "      <td>NY</td>\n",
       "    </tr>\n",
       "    <tr>\n",
       "      <th>3</th>\n",
       "      <td>14410</td>\n",
       "      <td>ADAMS BASIN, NY</td>\n",
       "      <td>ADAMS BASIN</td>\n",
       "      <td>NY</td>\n",
       "      <td>MONROE</td>\n",
       "      <td>NaN</td>\n",
       "      <td>table foodmart.kumar_bucketed partition (state...</td>\n",
       "      <td>NaN</td>\n",
       "      <td>NY</td>\n",
       "    </tr>\n",
       "    <tr>\n",
       "      <th>4</th>\n",
       "      <td>13606</td>\n",
       "      <td>ADAMS CENTER, NY</td>\n",
       "      <td>ADAMS CENTER</td>\n",
       "      <td>NY</td>\n",
       "      <td>JEFFERSON</td>\n",
       "      <td>NaN</td>\n",
       "      <td>NaN</td>\n",
       "      <td>NaN</td>\n",
       "      <td>NY</td>\n",
       "    </tr>\n",
       "    <tr>\n",
       "      <th>...</th>\n",
       "      <td>...</td>\n",
       "      <td>...</td>\n",
       "      <td>...</td>\n",
       "      <td>...</td>\n",
       "      <td>...</td>\n",
       "      <td>...</td>\n",
       "      <td>...</td>\n",
       "      <td>...</td>\n",
       "      <td>...</td>\n",
       "    </tr>\n",
       "    <tr>\n",
       "      <th>2070</th>\n",
       "      <td>12791</td>\n",
       "      <td>YOUNGSVILLE, NY</td>\n",
       "      <td>YOUNGSVILLE</td>\n",
       "      <td>NY</td>\n",
       "      <td>SULLIVAN</td>\n",
       "      <td>NaN</td>\n",
       "      <td>NaN</td>\n",
       "      <td>NaN</td>\n",
       "      <td>NY</td>\n",
       "    </tr>\n",
       "    <tr>\n",
       "      <th>2071</th>\n",
       "      <td>12792</td>\n",
       "      <td>YULAN, NY</td>\n",
       "      <td>YULAN</td>\n",
       "      <td>NY</td>\n",
       "      <td>SULLIVAN</td>\n",
       "      <td>NaN</td>\n",
       "      <td>NaN</td>\n",
       "      <td>NaN</td>\n",
       "      <td>NY</td>\n",
       "    </tr>\n",
       "    <tr>\n",
       "      <th>2072</th>\n",
       "      <td>NaN</td>\n",
       "      <td>NaN</td>\n",
       "      <td>NaN</td>\n",
       "      <td>NaN</td>\n",
       "      <td>NaN</td>\n",
       "      <td>NaN</td>\n",
       "      <td>NaN</td>\n",
       "      <td>NaN</td>\n",
       "      <td>NaN</td>\n",
       "    </tr>\n",
       "    <tr>\n",
       "      <th>2073</th>\n",
       "      <td>NaN</td>\n",
       "      <td>NaN</td>\n",
       "      <td>NaN</td>\n",
       "      <td>NaN</td>\n",
       "      <td>NaN</td>\n",
       "      <td>NaN</td>\n",
       "      <td>NaN</td>\n",
       "      <td>NaN</td>\n",
       "      <td>NaN</td>\n",
       "    </tr>\n",
       "    <tr>\n",
       "      <th>2074</th>\n",
       "      <td>For more information, kindly visit : www.downl...</td>\n",
       "      <td>NaN</td>\n",
       "      <td>NaN</td>\n",
       "      <td>NaN</td>\n",
       "      <td>NaN</td>\n",
       "      <td>NaN</td>\n",
       "      <td>NaN</td>\n",
       "      <td>NaN</td>\n",
       "      <td>NaN</td>\n",
       "    </tr>\n",
       "  </tbody>\n",
       "</table>\n",
       "<p>2075 rows × 9 columns</p>\n",
       "</div>"
      ],
      "text/plain": [
       "                                                    zip      Zipcode name  \\\n",
       "0                                                 12404        ACCORD, NY   \n",
       "1                                                 12405          ACRA, NY   \n",
       "2                                                 13605         ADAMS, NY   \n",
       "3                                                 14410   ADAMS BASIN, NY   \n",
       "4                                                 13606  ADAMS CENTER, NY   \n",
       "...                                                 ...               ...   \n",
       "2070                                              12791   YOUNGSVILLE, NY   \n",
       "2071                                              12792         YULAN, NY   \n",
       "2072                                                NaN               NaN   \n",
       "2073                                                NaN               NaN   \n",
       "2074  For more information, kindly visit : www.downl...               NaN   \n",
       "\n",
       "              City State County Name  Unnamed: 5  \\\n",
       "0           ACCORD    NY      ULSTER         NaN   \n",
       "1             ACRA    NY      GREENE         NaN   \n",
       "2            ADAMS    NY   JEFFERSON         NaN   \n",
       "3      ADAMS BASIN    NY      MONROE         NaN   \n",
       "4     ADAMS CENTER    NY   JEFFERSON         NaN   \n",
       "...            ...   ...         ...         ...   \n",
       "2070   YOUNGSVILLE    NY    SULLIVAN         NaN   \n",
       "2071         YULAN    NY    SULLIVAN         NaN   \n",
       "2072           NaN   NaN         NaN         NaN   \n",
       "2073           NaN   NaN         NaN         NaN   \n",
       "2074           NaN   NaN         NaN         NaN   \n",
       "\n",
       "                                             Unnamed: 6  Unnamed: 7 state_new  \n",
       "0                                                   NaN         NaN        NY  \n",
       "1                                                   NaN         NaN        NY  \n",
       "2                                                   NaN         NaN        NY  \n",
       "3     table foodmart.kumar_bucketed partition (state...         NaN        NY  \n",
       "4                                                   NaN         NaN        NY  \n",
       "...                                                 ...         ...       ...  \n",
       "2070                                                NaN         NaN        NY  \n",
       "2071                                                NaN         NaN        NY  \n",
       "2072                                                NaN         NaN       NaN  \n",
       "2073                                                NaN         NaN       NaN  \n",
       "2074                                                NaN         NaN       NaN  \n",
       "\n",
       "[2075 rows x 9 columns]"
      ]
     },
     "execution_count": 74,
     "metadata": {},
     "output_type": "execute_result"
    }
   ],
   "source": [
    "state_df"
   ]
  },
  {
   "cell_type": "code",
   "execution_count": 76,
   "id": "f5a32c99",
   "metadata": {},
   "outputs": [],
   "source": [
    "str1='aabbcccdddeee'"
   ]
  },
  {
   "cell_type": "code",
   "execution_count": 82,
   "id": "dc236725",
   "metadata": {},
   "outputs": [
    {
     "data": {
      "text/plain": [
       "['a', 'a', 'b', 'b', 'c', 'c', 'c', 'd', 'd', 'd', 'e', 'e', 'e']"
      ]
     },
     "execution_count": 82,
     "metadata": {},
     "output_type": "execute_result"
    }
   ],
   "source": [
    "str1_lst=[]\n",
    "for i in str1:\n",
    "\n",
    "    str1_lst.append(i)\n",
    "str1_lst"
   ]
  },
  {
   "cell_type": "code",
   "execution_count": 85,
   "id": "c6f1c23d",
   "metadata": {},
   "outputs": [],
   "source": [
    "new_city=[]"
   ]
  },
  {
   "cell_type": "code",
   "execution_count": 86,
   "id": "b6619afc",
   "metadata": {},
   "outputs": [
    {
     "ename": "AttributeError",
     "evalue": "'float' object has no attribute 'split'",
     "output_type": "error",
     "traceback": [
      "\u001b[0;31m---------------------------------------------------------------------------\u001b[0m",
      "\u001b[0;31mAttributeError\u001b[0m                            Traceback (most recent call last)",
      "\u001b[0;32m/var/folders/04/8d8tj67j7l71k5c5zgm7xx480000gn/T/ipykernel_73363/3549841131.py\u001b[0m in \u001b[0;36m<module>\u001b[0;34m\u001b[0m\n\u001b[1;32m      1\u001b[0m \u001b[0;32mfor\u001b[0m \u001b[0mi\u001b[0m \u001b[0;32min\u001b[0m \u001b[0mlist\u001b[0m\u001b[0;34m(\u001b[0m\u001b[0mstate_df\u001b[0m\u001b[0;34m[\u001b[0m\u001b[0;34m'Zipcode name'\u001b[0m\u001b[0;34m]\u001b[0m\u001b[0;34m)\u001b[0m\u001b[0;34m:\u001b[0m\u001b[0;34m\u001b[0m\u001b[0;34m\u001b[0m\u001b[0m\n\u001b[0;32m----> 2\u001b[0;31m     \u001b[0mnew_city\u001b[0m\u001b[0;34m.\u001b[0m\u001b[0mappend\u001b[0m\u001b[0;34m(\u001b[0m\u001b[0mi\u001b[0m\u001b[0;34m.\u001b[0m\u001b[0msplit\u001b[0m\u001b[0;34m(\u001b[0m\u001b[0;34m','\u001b[0m\u001b[0;34m)\u001b[0m\u001b[0;34m[\u001b[0m\u001b[0;36m0\u001b[0m\u001b[0;34m]\u001b[0m\u001b[0;34m)\u001b[0m\u001b[0;34m\u001b[0m\u001b[0;34m\u001b[0m\u001b[0m\n\u001b[0m",
      "\u001b[0;31mAttributeError\u001b[0m: 'float' object has no attribute 'split'"
     ]
    }
   ],
   "source": [
    "\n",
    "for i in list(state_df['Zipcode name']):\n",
    "    new_city.append(i.split(',')[0])"
   ]
  },
  {
   "cell_type": "code",
   "execution_count": null,
   "id": "1dab7569",
   "metadata": {},
   "outputs": [],
   "source": []
  }
 ],
 "metadata": {
  "kernelspec": {
   "display_name": "Python 3 (ipykernel)",
   "language": "python",
   "name": "python3"
  },
  "language_info": {
   "codemirror_mode": {
    "name": "ipython",
    "version": 3
   },
   "file_extension": ".py",
   "mimetype": "text/x-python",
   "name": "python",
   "nbconvert_exporter": "python",
   "pygments_lexer": "ipython3",
   "version": "3.9.7"
  }
 },
 "nbformat": 4,
 "nbformat_minor": 5
}
